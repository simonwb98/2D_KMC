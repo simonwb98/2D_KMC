{
 "cells": [
  {
   "cell_type": "markdown",
   "id": "710177ae",
   "metadata": {},
   "source": [
    "# General Use of KMC Simulation\n",
    "\n",
    "This package can be run, almost in its entirety, from a single function within main.py. In order to change the settings of this function, manual editing must be done. In the following section"
   ]
  },
  {
   "cell_type": "code",
   "execution_count": null,
   "id": "ee767db8",
   "metadata": {},
   "outputs": [],
   "source": []
  }
 ],
 "metadata": {
  "kernelspec": {
   "display_name": "Python 3 (ipykernel)",
   "language": "python",
   "name": "python3"
  },
  "language_info": {
   "codemirror_mode": {
    "name": "ipython",
    "version": 3
   },
   "file_extension": ".py",
   "mimetype": "text/x-python",
   "name": "python",
   "nbconvert_exporter": "python",
   "pygments_lexer": "ipython3",
   "version": "3.11.5"
  }
 },
 "nbformat": 4,
 "nbformat_minor": 5
}
