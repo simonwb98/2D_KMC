{
 "cells": [
  {
   "cell_type": "code",
   "execution_count": 1,
   "metadata": {},
   "outputs": [
    {
     "name": "stderr",
     "output_type": "stream",
     "text": [
      "c:\\Users\\User\\anaconda3\\lib\\site-packages\\pandas\\core\\arrays\\masked.py:60: UserWarning: Pandas requires version '1.3.6' or newer of 'bottleneck' (version '1.3.5' currently installed).\n",
      "  from pandas.core import (\n"
     ]
    },
    {
     "name": "stdout",
     "output_type": "stream",
     "text": [
      "Comparison results saved to 'comparison_results.csv'\n"
     ]
    }
   ],
   "source": [
    "import os\n",
    "import pandas as pd\n",
    "from scipy.stats import wasserstein_distance\n",
    "import ast\n",
    "\n",
    "def unpack_csv_files(folder_path):\n",
    "    \"\"\"Unpack experimental CSV files and extract frequency histograms.\"\"\"\n",
    "    results = {}\n",
    "    for file in os.listdir(folder_path):\n",
    "        if file.endswith(\".csv\"):\n",
    "            file_path = os.path.join(folder_path, file)\n",
    "            with open(file_path, \"r\") as f:\n",
    "                lines = f.readlines()\n",
    "            \n",
    "            frequency_data = []\n",
    "            is_frequency_section = False\n",
    "            for line in lines:\n",
    "                line = line.strip()\n",
    "                if line == \"Degree,Frequency\":\n",
    "                    is_frequency_section = True\n",
    "                    continue\n",
    "                if is_frequency_section:\n",
    "                    degree, frequency = line.split(\",\")\n",
    "                    degree = int(degree)\n",
    "                    if degree not in {0, 4}:  # Ignore 0 and 4 nearest neighbors\n",
    "                        frequency_data.append((degree, int(frequency)))\n",
    "            results[file] = frequency_data\n",
    "    return results\n",
    "\n",
    "def compare_histograms(simulated_file, experimental_folder):\n",
    "    \"\"\"Compare simulated histograms with experimental histograms.\"\"\"\n",
    "    # Load simulated data\n",
    "    simulated_data = pd.read_csv(simulated_file)\n",
    "    \n",
    "    # Extract experimental histograms\n",
    "    experimental_histograms = unpack_csv_files(experimental_folder)\n",
    "    \n",
    "    # Store comparison results\n",
    "    comparison_results = []\n",
    "    \n",
    "    for _, row in simulated_data.iterrows():\n",
    "        # Parse the Averaged Neighbour Frequency as a dictionary\n",
    "        sim_histogram = ast.literal_eval(row[\"Averaged Neighbour Frequency\"])\n",
    "        \n",
    "        # Convert dictionary to a full histogram list (bins = degrees)\n",
    "        max_degree = max(sim_histogram.keys())\n",
    "        sim_histogram_list = [sim_histogram.get(degree, 0) for degree in range(1, max_degree + 1)]\n",
    "        \n",
    "        # Compare with each experimental histogram\n",
    "        for exp_file, exp_data in experimental_histograms.items():\n",
    "            # Convert experimental histogram data back to a list\n",
    "            exp_histogram = [freq for degree, freq in exp_data]\n",
    "\n",
    "            # Ensure the experimental histogram has the same number of bins\n",
    "            max_bins = max(len(sim_histogram_list), len(exp_histogram))\n",
    "            sim_histogram_list = sim_histogram_list + [0] * (max_bins - len(sim_histogram_list))\n",
    "            exp_histogram = exp_histogram + [0] * (max_bins - len(exp_histogram))\n",
    "            \n",
    "            # Compute Wasserstein distance\n",
    "            distance = wasserstein_distance(range(len(sim_histogram_list)), range(len(exp_histogram)), sim_histogram_list, exp_histogram)\n",
    "            \n",
    "            # Save results\n",
    "            comparison_results.append({\n",
    "                \"Diffusion Energy\": row[\"Diffusion Energy\"],\n",
    "                \"Rotation Energy\": row[\"Rotation Energy\"],\n",
    "                \"Coupling Energy\": row[\"Coupling Energy\"],\n",
    "                \"Experimental File\": exp_file,\n",
    "                \"Wasserstein Distance\": distance\n",
    "            })\n",
    "    \n",
    "    # Convert results to a DataFrame\n",
    "    results_df = pd.DataFrame(comparison_results)\n",
    "    return results_df\n",
    "\n",
    "# Example Usage\n",
    "simulated_csv = r\"C:\\Users\\User\\Desktop\\2D_KMC\\data\\cluster_results.csv\"  # Replace with your simulated data file\n",
    "experimental_folder = r\"C:\\Users\\User\\Desktop\\research-updates\\NetworkQualityAnalysis\"  # Replace with your folder path\n",
    "\n",
    "# Perform the comparison\n",
    "comparison_results = compare_histograms(simulated_csv, experimental_folder)\n",
    "\n",
    "# Save and display results\n",
    "comparison_results.to_csv(\"wasserstein-distance-experiment-vs-simulations.csv\", index=False)\n",
    "print(\"Comparison results saved to 'comparison_results.csv'\")\n"
   ]
  }
 ],
 "metadata": {
  "kernelspec": {
   "display_name": "base",
   "language": "python",
   "name": "python3"
  },
  "language_info": {
   "codemirror_mode": {
    "name": "ipython",
    "version": 3
   },
   "file_extension": ".py",
   "mimetype": "text/x-python",
   "name": "python",
   "nbconvert_exporter": "python",
   "pygments_lexer": "ipython3",
   "version": "3.10.15"
  }
 },
 "nbformat": 4,
 "nbformat_minor": 2
}
